{
 "cells": [
  {
   "metadata": {},
   "cell_type": "markdown",
   "source": "# Analisis de informacion de Grupo Interact",
   "id": "cb1d91247e7bff90"
  },
  {
   "metadata": {},
   "cell_type": "markdown",
   "source": "##### Conexion a base de datos MySQL para obtener informacion almacenada",
   "id": "43e49bd9a29f874e"
  },
  {
   "cell_type": "code",
   "id": "initial_id",
   "metadata": {
    "collapsed": true,
    "ExecuteTime": {
     "end_time": "2025-02-10T02:59:42.802583Z",
     "start_time": "2025-02-10T02:59:42.797580Z"
    }
   },
   "source": [
    "import pandas as pd\n",
    "from sqlalchemy import create_engine\n",
    "\n",
    "localhost = 'localhost'\n",
    "user = 'root'\n",
    "password = 'Mysql12345'\n",
    "database = 'reportehoras'\n",
    "\n",
    "# Configurar conexión y probarla\n"
   ],
   "outputs": [],
   "execution_count": 36
  },
  {
   "metadata": {
    "ExecuteTime": {
     "end_time": "2025-02-10T03:04:42.840289Z",
     "start_time": "2025-02-10T03:04:42.352497Z"
    }
   },
   "cell_type": "code",
   "source": [
    "try:\n",
    "    con = create_engine(f'mysql+pymysql://{user}:{password}@{localhost}/{database}')\n",
    "    if con is not None:      \n",
    "        \n",
    "        df_clasificaciones = pd.read_sql('SELECT * FROM clasificaciones', con=con)\n",
    "        df_clientes = pd.read_sql('SELECT * FROM clientes', con=con)\n",
    "        df_actividades = pd.read_sql('SELECT * FROM datos_act', con=con)\n",
    "        df_empleados = pd.read_sql(sql='SELECT * FROM empleados', con=con)\n",
    "        df_modalidades = pd.read_sql(sql='SELECT * FROM modalidades', con=con)\n",
    "        print(df_modalidades.head())    \n",
    "        \n",
    "except RuntimeError as e:\n",
    "    print(f'❌ Contraseña incorrectas')\n",
    "    con = None\n",
    "except Exception as err:\n",
    "    print(f\"❌ Error de conexión: {err}\")\n",
    "    con = None\n",
    "finally:\n",
    "    if con is not None:\n",
    "        con.dispose()"
   ],
   "id": "34037c2cf0532797",
   "outputs": [
    {
     "name": "stdout",
     "output_type": "stream",
     "text": [
      "   clave_mod         descripcion  fecha_capt hora_capt  usuario  baja\n",
      "0          1  Presencial Oficina  2024-05-01  11:15:50     9010     0\n",
      "1          2  Presencial Cliente  2024-05-01  11:16:41     9010     0\n",
      "2          3        Home Working  2024-05-01  11:17:08     9010     0\n",
      "3          4            Personal  2024-05-01  11:18:16     9010     0\n",
      "4          5     No Especificado  2024-05-01  11:18:31     9010     0\n"
     ]
    }
   ],
   "execution_count": 38
  }
 ],
 "metadata": {
  "kernelspec": {
   "display_name": "Python 3",
   "language": "python",
   "name": "python3"
  },
  "language_info": {
   "codemirror_mode": {
    "name": "ipython",
    "version": 2
   },
   "file_extension": ".py",
   "mimetype": "text/x-python",
   "name": "python",
   "nbconvert_exporter": "python",
   "pygments_lexer": "ipython2",
   "version": "2.7.6"
  }
 },
 "nbformat": 4,
 "nbformat_minor": 5
}
