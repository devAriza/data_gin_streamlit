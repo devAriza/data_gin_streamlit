{
 "cells": [
  {
   "metadata": {},
   "cell_type": "markdown",
   "source": "# Analisis de informacion de Grupo Interact",
   "id": "cb1d91247e7bff90"
  },
  {
   "metadata": {},
   "cell_type": "markdown",
   "source": "##### Conexion a base de datos MySQL para obtener informacion almacenada",
   "id": "43e49bd9a29f874e"
  },
  {
   "cell_type": "code",
   "id": "initial_id",
   "metadata": {
    "collapsed": true,
    "ExecuteTime": {
     "end_time": "2025-02-10T02:59:42.802583Z",
     "start_time": "2025-02-10T02:59:42.797580Z"
    }
   },
   "source": [
    "import pandas as pd\n",
    "from sqlalchemy import create_engine\n",
    "\n",
    "localhost = 'localhost'\n",
    "user = 'root'\n",
    "password = 'Mysql12345'\n",
    "database = 'reportehoras'\n",
    "\n",
    "# Configurar conexión y probarla"
   ],
   "outputs": [],
   "execution_count": 36
  },
  {
   "metadata": {
    "ExecuteTime": {
     "end_time": "2025-02-10T03:42:38.642546Z",
     "start_time": "2025-02-10T03:42:38.044306Z"
    }
   },
   "cell_type": "code",
   "source": [
    "def cargar_tabla(nombre_tabla, con, chunk_size=1000):\n",
    "    \"\"\"\n",
    "    Carga tabla en un DF usando chunks para optimizar la lectura.\n",
    "    :param nombre_tabla: # Nombre de la tabla\n",
    "    :param con: # Conexion a la base de datos\n",
    "    :param chunk_size: # tamano de los pedazos\n",
    "    :return: Object tipo DataFrame\n",
    "    \"\"\"\n",
    "    return pd.concat(pd.read_sql(f'SELECT * FROM {nombre_tabla}', con=con, chunksize=chunk_size), ignore_index=True)\n",
    "\n",
    "try:\n",
    "    con = create_engine(f'mysql+pymysql://{user}:{password}@{localhost}/{database}')\n",
    "    if con is not None:      \n",
    "        \n",
    "        tablas = [\"clasificaciones\", \"clientes\", \"datos_act\", \"empleados\", \"modalidades\"]\n",
    "        dfs = {tabla: cargar_tabla(tabla, con) for tabla in tablas}\n",
    "        \n",
    "        df_clasificaciones = dfs['clasificaciones']\n",
    "        df_clientes = dfs['clientes']\n",
    "        df_datos_acts = dfs['datos_act']\n",
    "        df_empleados = dfs['empleados']\n",
    "        df_modalidades = dfs['modalidades']\n",
    "                \n",
    "except RuntimeError as e:\n",
    "    print(f'❌ Contraseña incorrectas')\n",
    "    con = None\n",
    "except Exception as err:\n",
    "    print(f\"❌ Error de conexión: {err}\")\n",
    "    con = None\n",
    "finally:\n",
    "    if con is not None:\n",
    "        con.dispose()"
   ],
   "id": "34037c2cf0532797",
   "outputs": [
    {
     "name": "stdout",
     "output_type": "stream",
     "text": [
      "   clave_mod         descripcion  fecha_capt hora_capt  usuario  baja\n",
      "0          1  Presencial Oficina  2024-05-01  11:15:50     9010     0\n",
      "1          2  Presencial Cliente  2024-05-01  11:16:41     9010     0\n",
      "2          3        Home Working  2024-05-01  11:17:08     9010     0\n",
      "3          4            Personal  2024-05-01  11:18:16     9010     0\n",
      "4          5     No Especificado  2024-05-01  11:18:31     9010     0\n"
     ]
    },
    {
     "name": "stderr",
     "output_type": "stream",
     "text": [
      "C:\\Users\\variz\\AppData\\Local\\Temp\\ipykernel_9548\\3554260470.py:9: FutureWarning: The behavior of DataFrame concatenation with empty or all-NA entries is deprecated. In a future version, this will no longer exclude empty or all-NA columns when determining the result dtypes. To retain the old behavior, exclude the relevant entries before the concat operation.\n",
      "  return pd.concat(pd.read_sql(f'SELECT * FROM {nombre_tabla}', con=con, chunksize=chunk_size), ignore_index=True)\n"
     ]
    }
   ],
   "execution_count": 41
  }
 ],
 "metadata": {
  "kernelspec": {
   "display_name": "Python 3",
   "language": "python",
   "name": "python3"
  },
  "language_info": {
   "codemirror_mode": {
    "name": "ipython",
    "version": 2
   },
   "file_extension": ".py",
   "mimetype": "text/x-python",
   "name": "python",
   "nbconvert_exporter": "python",
   "pygments_lexer": "ipython2",
   "version": "2.7.6"
  }
 },
 "nbformat": 4,
 "nbformat_minor": 5
}
